{
 "cells": [
  {
   "cell_type": "markdown",
   "metadata": {},
   "source": [
    "Under should round number because of too many decimals"
   ]
  },
  {
   "cell_type": "code",
   "execution_count": 2,
   "metadata": {},
   "outputs": [
    {
     "name": "stdout",
     "output_type": "stream",
     "text": [
      "8.381209831283913e+38\n"
     ]
    }
   ],
   "source": [
    "number = 838120983128391289381298312392189382193\n",
    "number = float(number)\n",
    "print(number)"
   ]
  },
  {
   "cell_type": "code",
   "execution_count": 3,
   "metadata": {},
   "outputs": [
    {
     "name": "stdout",
     "output_type": "stream",
     "text": [
      "0\n",
      "2\n"
     ]
    }
   ],
   "source": [
    "objlist = []\n",
    "\n",
    "class Test():\n",
    "    def __init__(self):\n",
    "        self.val = 0\n",
    "        objlist.append(self)\n",
    "\n",
    "testObj = Test()\n",
    "\n",
    "print(objlist[0].val)\n",
    "\n",
    "testObj.val = 2\n",
    "\n",
    "print(objlist[0].val)"
   ]
  },
  {
   "cell_type": "code",
   "execution_count": 3,
   "metadata": {},
   "outputs": [
    {
     "name": "stdout",
     "output_type": "stream",
     "text": [
      "tset\n"
     ]
    }
   ],
   "source": [
    "\n",
    "\n",
    "\n",
    "def test(**args):\n",
    "    print(args[\"var\"])\n",
    "\n",
    "\n",
    "test(var=\"tset\", var2=\"test 2\")"
   ]
  },
  {
   "cell_type": "code",
   "execution_count": 4,
   "metadata": {},
   "outputs": [
    {
     "name": "stdout",
     "output_type": "stream",
     "text": [
      "2.0097577571868896\n"
     ]
    }
   ],
   "source": [
    "import time\n",
    "\n",
    "start = time.time()\n",
    "time.sleep(2)\n",
    "stop = time.time()\n",
    "\n",
    "print(stop-start)"
   ]
  },
  {
   "cell_type": "code",
   "execution_count": 7,
   "metadata": {},
   "outputs": [
    {
     "name": "stdout",
     "output_type": "stream",
     "text": [
      "1.1966404427876283\n",
      "68.56244696639715\n",
      "12.0\n"
     ]
    }
   ],
   "source": [
    "from vpython import vec, degrees\n",
    "v1 = vec(1, 2, 3)\n",
    "v2 = vec(4,-5, 6)\n",
    "\n",
    "print(v1.diff_angle(v2))\n",
    "print(degrees(v1.diff_angle(v2)))\n",
    "\n",
    "print(v1.dot(v2))"
   ]
  }
 ],
 "metadata": {
  "interpreter": {
   "hash": "43a8aa618322f70174b48cd853ccee9a6d53b633ee14f8683d04a7f21d57b05f"
  },
  "kernelspec": {
   "display_name": "Python 3.9.7 64-bit",
   "language": "python",
   "name": "python3"
  },
  "language_info": {
   "codemirror_mode": {
    "name": "ipython",
    "version": 3
   },
   "file_extension": ".py",
   "mimetype": "text/x-python",
   "name": "python",
   "nbconvert_exporter": "python",
   "pygments_lexer": "ipython3",
   "version": "3.9.7"
  },
  "orig_nbformat": 4
 },
 "nbformat": 4,
 "nbformat_minor": 2
}
